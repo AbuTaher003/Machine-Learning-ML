{
 "cells": [
  {
   "cell_type": "code",
   "execution_count": 2,
   "id": "87802ae9-2b4c-4825-81da-696a88a1767a",
   "metadata": {},
   "outputs": [],
   "source": [
    "from sklearn.datasets import load_diabetes\n",
    "from sklearn.linear_model import LinearRegression,Ridge,Lasso,ElasticNet\n",
    "from sklearn.model_selection import train_test_split\n",
    "from sklearn.metrics import r2_score"
   ]
  },
  {
   "cell_type": "code",
   "execution_count": 4,
   "id": "9b62eb36-21be-4ba0-b5db-dea6b4747596",
   "metadata": {},
   "outputs": [],
   "source": [
    "X,y = load_diabetes(return_X_y = True)"
   ]
  },
  {
   "cell_type": "code",
   "execution_count": 6,
   "id": "e9f586c0-2d58-4f17-b429-e955618c43a0",
   "metadata": {},
   "outputs": [],
   "source": [
    "X_train,X_test,y_train,y_test = train_test_split(X,y,test_size=0.2,random_state=2)"
   ]
  },
  {
   "cell_type": "code",
   "execution_count": 10,
   "id": "8491351e-e342-4def-a190-ecabeb1060b0",
   "metadata": {},
   "outputs": [
    {
     "data": {
      "text/plain": [
       "0.439933866156897"
      ]
     },
     "execution_count": 10,
     "metadata": {},
     "output_type": "execute_result"
    }
   ],
   "source": [
    "# Linear Regression\n",
    "reg = LinearRegression()\n",
    "reg.fit(X_train,y_train)\n",
    "y_pred = reg.predict(X_test)\n",
    "r2_score(y_test,y_pred)"
   ]
  },
  {
   "cell_type": "code",
   "execution_count": 12,
   "id": "63657259-7b14-4f16-b6f8-3192d854a1aa",
   "metadata": {},
   "outputs": [
    {
     "data": {
      "text/plain": [
       "0.45199494197195456"
      ]
     },
     "execution_count": 12,
     "metadata": {},
     "output_type": "execute_result"
    }
   ],
   "source": [
    "# Ridge Regression\n",
    "\n",
    "reg = Ridge(alpha = 0.1)\n",
    "reg.fit(X_train,y_train)\n",
    "y_pred = reg.predict(X_test)\n",
    "r2_score(y_test,y_pred)"
   ]
  },
  {
   "cell_type": "code",
   "execution_count": 14,
   "id": "85064618-e0a1-4c04-9632-bbab812f5ec9",
   "metadata": {},
   "outputs": [
    {
     "data": {
      "text/plain": [
       "0.44111855963110613"
      ]
     },
     "execution_count": 14,
     "metadata": {},
     "output_type": "execute_result"
    }
   ],
   "source": [
    "# Lasso\n",
    "reg = Lasso(alpha=0.01)\n",
    "reg.fit(X_train,y_train)\n",
    "y_pred = reg.predict(X_test)\n",
    "r2_score(y_test,y_pred)"
   ]
  },
  {
   "cell_type": "code",
   "execution_count": 30,
   "id": "db56adba-3112-4687-afc9-22d5611beb72",
   "metadata": {},
   "outputs": [
    {
     "data": {
      "text/plain": [
       "0.4531474541554823"
      ]
     },
     "execution_count": 30,
     "metadata": {},
     "output_type": "execute_result"
    }
   ],
   "source": [
    "# ElasticNet Regression\n",
    "\n",
    "reg = ElasticNet(alpha = 0.005, l1_ratio = 0.9)\n",
    "reg.fit(X_train,y_train)\n",
    "y_pred = reg.predict(X_test)\n",
    "r2_score(y_test,y_pred)"
   ]
  },
  {
   "cell_type": "markdown",
   "id": "6391572a-b6e1-474b-b371-e276a6484790",
   "metadata": {},
   "source": [
    "ElasticNet-এ `l1_ratio` বেছে নেওয়া আসলে একটা balance decide করা—`L1 (Lasso)` আর `L2 (Ridge)` regularization-এর মধ্যে। এখন দেখি কিভাবে তুমি বুঝবে `l1_ratio` কতো use করা উচিত।\n",
    "\n",
    "---\n",
    "\n",
    "### 🔍 `l1_ratio` মানে কী?\n",
    "\n",
    "```python\n",
    "ElasticNet(alpha = 0.005, l1_ratio = 0.9)\n",
    "```\n",
    "\n",
    "এখানে:\n",
    "\n",
    "* `alpha = 0.005`: regularization এর strength। যত বড়, তত বেশি penalization।\n",
    "* `l1_ratio = 0.9`: এর মানে 90% L1 penalty (Lasso) + 10% L2 penalty (Ridge)।\n",
    "  L1 বেশি মানে model বেশি sparsity (অনেক coefficient শূন্য করে ফেলবে) চায়।\n",
    "\n",
    "---\n",
    "\n",
    "### 🧠 তাহলে কবে কেমন `l1_ratio` use করা উচিত?\n",
    "\n",
    "#### ✅ যদি feature গুলোর মধ্যে অনেক গুলা zero হয়ে যাওয়া দরকার হয় (feature selection দরকার):\n",
    "\n",
    "* `l1_ratio` → **0.7 - 1.0** (L1 বেশি → sparse solution)\n",
    "* উদাহরণ: High-dimensional dataset (e.g., genomics, NLP)\n",
    "\n",
    "#### ✅ যদি সবগুলো feature কে একটু একটু করে retain করতে চাও:\n",
    "\n",
    "* `l1_ratio` → **0.1 - 0.4** (L2 বেশি → small but nonzero coefficients)\n",
    "* উদাহরণ: Multicollinearity আছে, but feature discard করা risk আছে\n",
    "\n",
    "#### ✅ যদি দুইটার balanced combination দরকার হয়:\n",
    "\n",
    "* `l1_ratio` → **0.5**\n",
    "\n",
    "---\n",
    "\n",
    "### 📊 কিভাবে best `l1_ratio` খুঁজবে?\n",
    "\n",
    "👉 **Use Grid Search / Cross-Validation!**\n",
    "\n",
    "```python\n",
    "from sklearn.linear_model import ElasticNet\n",
    "from sklearn.model_selection import GridSearchCV\n",
    "\n",
    "param_grid = {\n",
    "    'alpha': [0.001, 0.01, 0.1, 1],\n",
    "    'l1_ratio': [0.1, 0.5, 0.7, 0.9, 1.0]\n",
    "}\n",
    "\n",
    "model = ElasticNet()\n",
    "grid = GridSearchCV(model, param_grid, cv=5)\n",
    "grid.fit(X_train, y_train)\n",
    "\n",
    "print(\"Best parameters:\", grid.best_params_)\n",
    "```\n",
    "\n",
    "---\n",
    "\n",
    "### 🎯 Bottom line:\n",
    "\n",
    "* `l1_ratio = 0.9` মানে তুমি Lasso-dominant regularization দিচ্ছো।\n",
    "* এটা ভালো কাজ করবে যদি তুমি মনে করো অনেক unimportant feature আছে।\n",
    "* Best value automatically বের করতে চাইলে `GridSearchCV` ব্যবহার করো।\n",
    "\n",
    "---"
   ]
  },
  {
   "cell_type": "code",
   "execution_count": 26,
   "id": "584e81e8-df0a-4f34-ae56-505b3284517a",
   "metadata": {},
   "outputs": [
    {
     "name": "stdout",
     "output_type": "stream",
     "text": [
      "Best parameters: {'alpha': 0.1, 'l1_ratio': 1.0}\n"
     ]
    }
   ],
   "source": [
    "from sklearn.linear_model import ElasticNet\n",
    "from sklearn.model_selection import GridSearchCV\n",
    "\n",
    "param_grid = {\n",
    "    'alpha': [0.001, 0.01, 0.1, 1],\n",
    "    'l1_ratio': [0.1, 0.5, 0.7, 0.9, 1.0]\n",
    "}\n",
    "\n",
    "model = ElasticNet()\n",
    "grid = GridSearchCV(model, param_grid, cv=5)\n",
    "grid.fit(X_train, y_train)\n",
    "\n",
    "print(\"Best parameters:\", grid.best_params_)\n"
   ]
  },
  {
   "cell_type": "code",
   "execution_count": null,
   "id": "02fc93ff-bfc2-4c53-b03e-67a4a767ec8f",
   "metadata": {},
   "outputs": [],
   "source": []
  }
 ],
 "metadata": {
  "kernelspec": {
   "display_name": "Python [conda env:base] *",
   "language": "python",
   "name": "conda-base-py"
  },
  "language_info": {
   "codemirror_mode": {
    "name": "ipython",
    "version": 3
   },
   "file_extension": ".py",
   "mimetype": "text/x-python",
   "name": "python",
   "nbconvert_exporter": "python",
   "pygments_lexer": "ipython3",
   "version": "3.12.7"
  }
 },
 "nbformat": 4,
 "nbformat_minor": 5
}
