{
 "cells": [
  {
   "cell_type": "markdown",
   "id": "9d9c3df5-68ca-47d3-b602-f7c5f07492b9",
   "metadata": {},
   "source": [
    "# Univariate Analysis: \n",
    "- ```Uni``` means single and ```variate``` means variable. Analysis of single variable is called univariate analysis.\n",
    "- When we have data with multiple columns then we can call each column a variable. Then every individual analysis on these columns is called univariate analysis.\n",
    "\n",
    "___If we perform analysis on two variables then it is bivariate analysis and if we perform analysis on multiple variables then it's called multivariable analysis.___\n",
    "___\n",
    "\n",
    "\n",
    "- __We can have two types of data.__\n",
    "   1. Numerical data\n",
    "   2. Categorical data\n",
    "\n",
    "- __Numerical data:__ Every integer and float data are numerical data.\n",
    "- __Categorical data:__ All characters and string data are categorical data.\n",
    "\n",
    "   - while analysis first we should be aware about our datatype then we will take actions for different kind of types, if data is numerical then we'll use some specific tools and commands and so for categorical data."
   ]
  },
  {
   "cell_type": "markdown",
   "id": "a4c70fa2-bd6b-4ccb-b863-07f59b114075",
   "metadata": {},
   "source": [
    "# Categorical data: \n"
   ]
  },
  {
   "cell_type": "code",
   "execution_count": 3,
   "id": "2857b24e-7807-4c5b-90c4-b03431921ba8",
   "metadata": {},
   "outputs": [
    {
     "data": {
      "text/html": [
       "<div>\n",
       "<style scoped>\n",
       "    .dataframe tbody tr th:only-of-type {\n",
       "        vertical-align: middle;\n",
       "    }\n",
       "\n",
       "    .dataframe tbody tr th {\n",
       "        vertical-align: top;\n",
       "    }\n",
       "\n",
       "    .dataframe thead th {\n",
       "        text-align: right;\n",
       "    }\n",
       "</style>\n",
       "<table border=\"1\" class=\"dataframe\">\n",
       "  <thead>\n",
       "    <tr style=\"text-align: right;\">\n",
       "      <th></th>\n",
       "      <th>PassengerId</th>\n",
       "      <th>Survived</th>\n",
       "      <th>Pclass</th>\n",
       "      <th>Name</th>\n",
       "      <th>Sex</th>\n",
       "      <th>Age</th>\n",
       "      <th>SibSp</th>\n",
       "      <th>Parch</th>\n",
       "      <th>Ticket</th>\n",
       "      <th>Fare</th>\n",
       "      <th>Cabin</th>\n",
       "      <th>Embarked</th>\n",
       "    </tr>\n",
       "  </thead>\n",
       "  <tbody>\n",
       "    <tr>\n",
       "      <th>0</th>\n",
       "      <td>1</td>\n",
       "      <td>0</td>\n",
       "      <td>3</td>\n",
       "      <td>Braund, Mr. Owen Harris</td>\n",
       "      <td>male</td>\n",
       "      <td>22.0</td>\n",
       "      <td>1</td>\n",
       "      <td>0</td>\n",
       "      <td>A/5 21171</td>\n",
       "      <td>7.2500</td>\n",
       "      <td>NaN</td>\n",
       "      <td>S</td>\n",
       "    </tr>\n",
       "    <tr>\n",
       "      <th>1</th>\n",
       "      <td>2</td>\n",
       "      <td>1</td>\n",
       "      <td>1</td>\n",
       "      <td>Cumings, Mrs. John Bradley (Florence Briggs Th...</td>\n",
       "      <td>female</td>\n",
       "      <td>38.0</td>\n",
       "      <td>1</td>\n",
       "      <td>0</td>\n",
       "      <td>PC 17599</td>\n",
       "      <td>71.2833</td>\n",
       "      <td>C85</td>\n",
       "      <td>C</td>\n",
       "    </tr>\n",
       "    <tr>\n",
       "      <th>2</th>\n",
       "      <td>3</td>\n",
       "      <td>1</td>\n",
       "      <td>3</td>\n",
       "      <td>Heikkinen, Miss. Laina</td>\n",
       "      <td>female</td>\n",
       "      <td>26.0</td>\n",
       "      <td>0</td>\n",
       "      <td>0</td>\n",
       "      <td>STON/O2. 3101282</td>\n",
       "      <td>7.9250</td>\n",
       "      <td>NaN</td>\n",
       "      <td>S</td>\n",
       "    </tr>\n",
       "    <tr>\n",
       "      <th>3</th>\n",
       "      <td>4</td>\n",
       "      <td>1</td>\n",
       "      <td>1</td>\n",
       "      <td>Futrelle, Mrs. Jacques Heath (Lily May Peel)</td>\n",
       "      <td>female</td>\n",
       "      <td>35.0</td>\n",
       "      <td>1</td>\n",
       "      <td>0</td>\n",
       "      <td>113803</td>\n",
       "      <td>53.1000</td>\n",
       "      <td>C123</td>\n",
       "      <td>S</td>\n",
       "    </tr>\n",
       "    <tr>\n",
       "      <th>4</th>\n",
       "      <td>5</td>\n",
       "      <td>0</td>\n",
       "      <td>3</td>\n",
       "      <td>Allen, Mr. William Henry</td>\n",
       "      <td>male</td>\n",
       "      <td>35.0</td>\n",
       "      <td>0</td>\n",
       "      <td>0</td>\n",
       "      <td>373450</td>\n",
       "      <td>8.0500</td>\n",
       "      <td>NaN</td>\n",
       "      <td>S</td>\n",
       "    </tr>\n",
       "  </tbody>\n",
       "</table>\n",
       "</div>"
      ],
      "text/plain": [
       "   PassengerId  Survived  Pclass  \\\n",
       "0            1         0       3   \n",
       "1            2         1       1   \n",
       "2            3         1       3   \n",
       "3            4         1       1   \n",
       "4            5         0       3   \n",
       "\n",
       "                                                Name     Sex   Age  SibSp  \\\n",
       "0                            Braund, Mr. Owen Harris    male  22.0      1   \n",
       "1  Cumings, Mrs. John Bradley (Florence Briggs Th...  female  38.0      1   \n",
       "2                             Heikkinen, Miss. Laina  female  26.0      0   \n",
       "3       Futrelle, Mrs. Jacques Heath (Lily May Peel)  female  35.0      1   \n",
       "4                           Allen, Mr. William Henry    male  35.0      0   \n",
       "\n",
       "   Parch            Ticket     Fare Cabin Embarked  \n",
       "0      0         A/5 21171   7.2500   NaN        S  \n",
       "1      0          PC 17599  71.2833   C85        C  \n",
       "2      0  STON/O2. 3101282   7.9250   NaN        S  \n",
       "3      0            113803  53.1000  C123        S  \n",
       "4      0            373450   8.0500   NaN        S  "
      ]
     },
     "execution_count": 3,
     "metadata": {},
     "output_type": "execute_result"
    }
   ],
   "source": [
    "import pandas as pd\n",
    "import seaborn as sns\n",
    "import matplotlib.pyplot as plt\n",
    "\n",
    "df = pd.read_csv('train.csv')\n",
    "df.head()"
   ]
  },
  {
   "cell_type": "markdown",
   "id": "89cb02d8-46b2-4816-b7b3-da14ede22274",
   "metadata": {},
   "source": [
    "__a. Countplot:__\n",
    "- when we have to know the frequency of any column then we will use countplot to count frequency.\n",
    "   - ```df['Pclass'].value_counts()``` shows the counts. "
   ]
  },
  {
   "cell_type": "code",
   "execution_count": 5,
   "id": "c5374685-3072-459f-83ac-cc2be1a2eef4",
   "metadata": {},
   "outputs": [
    {
     "name": "stderr",
     "output_type": "stream",
     "text": [
      "/var/folders/k_/w_0ddy056_b8jdbw_w07q8lh0000gn/T/ipykernel_50049/830854150.py:1: FutureWarning: \n",
      "\n",
      "Passing `palette` without assigning `hue` is deprecated and will be removed in v0.14.0. Assign the `x` variable to `hue` and set `legend=False` for the same effect.\n",
      "\n",
      "  sns.countplot(x = df['Pclass'],palette=\"pastel\")\n"
     ]
    },
    {
     "data": {
      "text/plain": [
       "Pclass\n",
       "3    491\n",
       "1    216\n",
       "2    184\n",
       "Name: count, dtype: int64"
      ]
     },
     "execution_count": 5,
     "metadata": {},
     "output_type": "execute_result"
    },
    {
     "data": {
      "image/png": "[encoded data removed]",
      "text/plain": [
       "<Figure size 640x480 with 1 Axes>"
      ]
     },
     "metadata": {},
     "output_type": "display_data"
    }
   ],
   "source": [
    "sns.countplot(x = df['Pclass'],palette=\"pastel\")\n",
    "df['Pclass'].value_counts()\n",
    "\n",
    "#df['Pclass'].value_counts().plot(kind='bar') eta diyeo same plot banano jay.\n"
   ]
  },
  {
   "cell_type": "markdown",
   "id": "03a87a3f-a7d1-4033-a2c4-dabdbdcd3d31",
   "metadata": {},
   "source": [
    "__b. Pie Chart__"
   ]
  },
  {
   "cell_type": "markdown",
   "id": "ef08e2a4-6245-4e56-9c69-c40ea43eef80",
   "metadata": {},
   "source": [
    "- If you want to visualize the same count in the form of percentage then you can use ```pie chart```."
   ]
  },
  {
   "cell_type": "code",
   "execution_count": 8,
   "id": "8e47c06d-bcff-4cb7-b351-b259a8bb4f25",
   "metadata": {},
   "outputs": [
    {
     "data": {
      "image/png": "[encoded data removed]",
      "text/plain": [
       "<Figure size 640x480 with 1 Axes>"
      ]
     },
     "metadata": {},
     "output_type": "display_data"
    }
   ],
   "source": [
    "#plt.pie(df['Pclass'].value_counts(),labels=df['Pclass'].value_counts().index,autopct='%1.2f%%') same plot banano jay\n",
    "\n",
    "df['Pclass'].value_counts().plot(kind='pie',autopct='%.2f%%')\n",
    "\n",
    "plt.show()"
   ]
  },
  {
   "cell_type": "markdown",
   "id": "003cf206-f4b8-468f-ae4f-a3ce278ed7af",
   "metadata": {},
   "source": [
    "# Numerical data:"
   ]
  },
  {
   "cell_type": "markdown",
   "id": "4c3827c0-fa6b-4e35-a1db-7c34eaf3aa45",
   "metadata": {},
   "source": [
    "__a. Histogram__"
   ]
  },
  {
   "cell_type": "markdown",
   "id": "e694755e-e070-4c03-8ccc-88e28ec9c0c7",
   "metadata": {},
   "source": [
    "- Histogram **numerical data-র distribution** দেখায়, যেখানে **range অনুযায়ী frequency** বোঝা যায়, যা **outlier, data spread, এবং distribution type (Normal, Skewed)** বুঝতে সাহায্য করে। এটা **continuous data-র জন্য ব্যবহার হয়**, যেখানে bar chart **categorical data-র জন্য হয়**।\n",
    "\n",
    "A histogram **shows the distribution of numerical data** by representing frequency across different ranges, helping to **identify outliers, data spread, and distribution type (Normal, Skewed, etc.)**. It is used for **continuous data**, whereas a bar chart is for **categorical data**."
   ]
  },
  {
   "cell_type": "code",
   "execution_count": 12,
   "id": "63478e0e-af9f-47dc-ae36-1c9e1501628b",
   "metadata": {},
   "outputs": [
    {
     "data": {
      "image/png": "[encoded data removed]",
      "text/plain": [
       "<Figure size 640x480 with 1 Axes>"
      ]
     },
     "metadata": {},
     "output_type": "display_data"
    }
   ],
   "source": [
    "plt.hist(df['Age'],bins=5)\n",
    "\n",
    "#`bins=5` মানে পুরো numerical range টাকে 5টা ভাগে (intervals) ভাগ করা হবে এবং প্রতিটা bin-এ কত data আছে তা দেখাবে। এটা histogram-এর bar সংখ্যা নিয়ন্ত্রণ করে, যা data-র distribution সহজে বোঝার জন্য দরকার হয়।\n",
    "plt.show()"
   ]
  },
  {
   "cell_type": "markdown",
   "id": "a14ff81a-0689-495a-a06b-7fd43562f240",
   "metadata": {},
   "source": [
    "__b. Distplot__"
   ]
  },
  {
   "cell_type": "markdown",
   "id": "b7898851-4ca7-4c2e-ab87-ea476b2514aa",
   "metadata": {},
   "source": [
    "- In distplot we have a kde line. This line touches the top of the bars. While histogram plot gives us result of counts , distplot shows us probability. Its also called ```PDF(Probability Density Function)```.\n",
    "- distplot also gives us idea about if the data is skewed or not. We can understand this via KDE line.\n",
    "- pandas has a function called ```skew()``` also shows us skewness of a graph.\n",
    "   - If the skewness value is ```0``` then graph is symmetric, if positive then graph is towards ```right side``` and called ```positively skewed``` and if it is negative then its called ```negatively skewed``` towards ```left side```. "
   ]
  },
  {
   "cell_type": "code",
   "execution_count": 15,
   "id": "47d81859-859a-4499-b654-17acfc65a6ef",
   "metadata": {},
   "outputs": [
    {
     "name": "stderr",
     "output_type": "stream",
     "text": [
      "/var/folders/k_/w_0ddy056_b8jdbw_w07q8lh0000gn/T/ipykernel_50049/549670913.py:1: UserWarning: \n",
      "\n",
      "`distplot` is a deprecated function and will be removed in seaborn v0.14.0.\n",
      "\n",
      "Please adapt your code to use either `displot` (a figure-level function with\n",
      "similar flexibility) or `histplot` (an axes-level function for histograms).\n",
      "\n",
      "For a guide to updating your code to use the new functions, please see\n",
      "https://gist.github.com/mwaskom/de44147ed2974457ad6372750bbe5751\n",
      "\n",
      "  sns.distplot(df['Age'])\n"
     ]
    },
    {
     "data": {
      "image/png": "[encoded data removed]",
      "text/plain": [
       "<Figure size 640x480 with 1 Axes>"
      ]
     },
     "metadata": {},
     "output_type": "display_data"
    }
   ],
   "source": [
    "sns.distplot(df['Age'])\n",
    "\n",
    "plt.show()"
   ]
  },
  {
   "cell_type": "markdown",
   "id": "39a51dfe-291a-41c6-8539-46ef77a906ef",
   "metadata": {},
   "source": [
    "__c.BoxPlot__"
   ]
  },
  {
   "cell_type": "markdown",
   "id": "29b1003b-96dc-437b-80f8-8c796ed94829",
   "metadata": {},
   "source": [
    "- **Boxplot** is generally used when our data has so many outliers or noise. We can easily detect them elemenate them."
   ]
  },
  {
   "cell_type": "markdown",
   "id": "5613fc1e-70cc-45cc-9f26-ceb3faa9cb14",
   "metadata": {},
   "source": [
    "<img src=\"Screenshot 2025-02-03 at 2.04.09 PM.png\" width=\"400\" height=\"300\">"
   ]
  },
  {
   "cell_type": "code",
   "execution_count": 27,
   "id": "1ce1c5d4-a500-41d7-a1be-2f4cd835822e",
   "metadata": {},
   "outputs": [
    {
     "data": {
      "image/png": "[encoded data removed]",
      "text/plain": [
       "<Figure size 640x480 with 1 Axes>"
      ]
     },
     "metadata": {},
     "output_type": "display_data"
    }
   ],
   "source": [
    "sns.boxplot(df['Age'])\n",
    "\n",
    "plt.show()"
   ]
  },
  {
   "cell_type": "code",
   "execution_count": 29,
   "id": "ff61ee45-80a0-416a-8b52-e883808030da",
   "metadata": {},
   "outputs": [
    {
     "data": {
      "text/plain": [
       "0.42"
      ]
     },
     "execution_count": 29,
     "metadata": {},
     "output_type": "execute_result"
    }
   ],
   "source": [
    "df['Age'].min()"
   ]
  },
  {
   "cell_type": "code",
   "execution_count": 31,
   "id": "943d4530-99d4-452c-90ae-adabd081e378",
   "metadata": {},
   "outputs": [
    {
     "data": {
      "text/plain": [
       "80.0"
      ]
     },
     "execution_count": 31,
     "metadata": {},
     "output_type": "execute_result"
    }
   ],
   "source": [
    "df['Age'].max()"
   ]
  },
  {
   "cell_type": "code",
   "execution_count": 33,
   "id": "d5ffd316-a3d9-4a38-b6cd-2695b5064bb8",
   "metadata": {},
   "outputs": [
    {
     "data": {
      "text/plain": [
       "29.69911764705882"
      ]
     },
     "execution_count": 33,
     "metadata": {},
     "output_type": "execute_result"
    }
   ],
   "source": [
    "df['Age'].mean()"
   ]
  },
  {
   "cell_type": "code",
   "execution_count": 38,
   "id": "153f347e-21ee-4551-b45f-0e87af213753",
   "metadata": {},
   "outputs": [
    {
     "data": {
      "text/plain": [
       "0.38910778230082704"
      ]
     },
     "execution_count": 38,
     "metadata": {},
     "output_type": "execute_result"
    }
   ],
   "source": [
    "df['Age'].skew()"
   ]
  },
  {
   "cell_type": "markdown",
   "id": "371a8d39-f8f8-4b3b-8453-6ebba83460de",
   "metadata": {},
   "source": [
    "- that means its positively skewed towards right side."
   ]
  }
 ],
 "metadata": {
  "kernelspec": {
   "display_name": "Python [conda env:base] *",
   "language": "python",
   "name": "conda-base-py"
  },
  "language_info": {
   "codemirror_mode": {
    "name": "ipython",
    "version": 3
   },
   "file_extension": ".py",
   "mimetype": "text/x-python",
   "name": "python",
   "nbconvert_exporter": "python",
   "pygments_lexer": "ipython3",
   "version": "3.12.7"
  }
 },
 "nbformat": 4,
 "nbformat_minor": 5
}
